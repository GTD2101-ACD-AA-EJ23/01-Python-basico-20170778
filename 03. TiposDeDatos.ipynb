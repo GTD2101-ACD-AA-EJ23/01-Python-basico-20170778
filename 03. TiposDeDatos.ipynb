{
  "cells": [
    {
      "cell_type": "markdown",
      "metadata": {
        "id": "view-in-github",
        "colab_type": "text"
      },
      "source": [
        "<a href=\"https://colab.research.google.com/github/GTD2101-ACD-AA-EJ23/01-Python-basico-20170778/blob/main/03.%20TiposDeDatos.ipynb\" target=\"_parent\"><img src=\"https://colab.research.google.com/assets/colab-badge.svg\" alt=\"Open In Colab\"/></a>"
      ]
    },
    {
      "cell_type": "markdown",
      "metadata": {
        "id": "yGtkUC0jN7Df"
      },
      "source": [
        "# Tipos de Datos\n",
        "\n",
        "En este JNB se revisará el tema de Tipos de Datos"
      ]
    },
    {
      "cell_type": "markdown",
      "source": [
        "# Enteros\n",
        "Este tipo de dato es el tradicional de valores que son enteros."
      ],
      "metadata": {
        "id": "qrxvNESNOPKz"
      }
    },
    {
      "cell_type": "code",
      "source": [
        "x = 14\n",
        "print(x)\n",
        "print(type(x))"
      ],
      "metadata": {
        "id": "OWDOYBNOOohj",
        "outputId": "6747622d-c3cd-44e7-c575-c15938124c0c",
        "colab": {
          "base_uri": "https://localhost:8080/"
        }
      },
      "execution_count": null,
      "outputs": [
        {
          "output_type": "stream",
          "name": "stdout",
          "text": [
            "14\n",
            "<class 'int'>\n"
          ]
        }
      ]
    },
    {
      "cell_type": "markdown",
      "source": [
        "# Flotantes\n",
        "Son los números reales."
      ],
      "metadata": {
        "id": "LJe-hnIXO9Ay"
      }
    },
    {
      "cell_type": "code",
      "source": [
        "nearly_pi = 3.141592653589793238462643383279502884197169399375105820974944\n",
        "print(nearly_pi)\n",
        "print(type(nearly_pi))"
      ],
      "metadata": {
        "id": "5PvWNuTqPW0g",
        "outputId": "9f3a9e33-de58-4db9-8bda-c73355b748cc",
        "colab": {
          "base_uri": "https://localhost:8080/"
        }
      },
      "execution_count": null,
      "outputs": [
        {
          "output_type": "stream",
          "name": "stdout",
          "text": [
            "3.141592653589793\n",
            "<class 'float'>\n"
          ]
        }
      ]
    },
    {
      "cell_type": "markdown",
      "source": [
        "Es posible que el resultado de un cociente sea un número flotante."
      ],
      "metadata": {
        "id": "Wq-xlslePd8P"
      }
    },
    {
      "cell_type": "code",
      "source": [
        "almost_pi = 22/7\n",
        "print(almost_pi)\n",
        "print(type(almost_pi))"
      ],
      "metadata": {
        "id": "kpFriv76PA4J",
        "outputId": "9af8648e-d9fc-4c5b-db1d-215296388fdf",
        "colab": {
          "base_uri": "https://localhost:8080/"
        }
      },
      "execution_count": null,
      "outputs": [
        {
          "output_type": "stream",
          "name": "stdout",
          "text": [
            "3.142857142857143\n",
            "<class 'float'>\n"
          ]
        }
      ]
    },
    {
      "cell_type": "markdown",
      "source": [
        "Es posible redondear a cierto número de valores decimales."
      ],
      "metadata": {
        "id": "Oaf8sbJFP0dF"
      }
    },
    {
      "cell_type": "code",
      "source": [
        "# Round to 5 decimal places\n",
        "rounded_pi = round(almost_pi, 5)\n",
        "print(rounded_pi)\n",
        "print(type(rounded_pi))"
      ],
      "metadata": {
        "id": "WTZ3FT6tP5Gn",
        "outputId": "9daef7f1-0c15-42ea-98ae-00241487f75f",
        "colab": {
          "base_uri": "https://localhost:8080/"
        }
      },
      "execution_count": null,
      "outputs": [
        {
          "output_type": "stream",
          "name": "stdout",
          "text": [
            "3.14286\n",
            "<class 'float'>\n"
          ]
        }
      ]
    },
    {
      "cell_type": "markdown",
      "source": [
        "La presencia del punto decimal en cualquier número lo convierte a un tipo flotante:"
      ],
      "metadata": {
        "id": "50KeIfcQQLEe"
      }
    },
    {
      "cell_type": "code",
      "source": [
        "y_float = 1.\n",
        "print(y_float)\n",
        "print(type(y_float))"
      ],
      "metadata": {
        "id": "G3hZHU48QRI_",
        "outputId": "5e49fdfa-7089-4888-c708-0cc88bebf12b",
        "colab": {
          "base_uri": "https://localhost:8080/"
        }
      },
      "execution_count": null,
      "outputs": [
        {
          "output_type": "stream",
          "name": "stdout",
          "text": [
            "1.0\n",
            "<class 'float'>\n"
          ]
        }
      ]
    },
    {
      "cell_type": "markdown",
      "source": [
        "# Booleans\n",
        "Este tipo de dato se utiliza para manejar valores falsos y verdaderos."
      ],
      "metadata": {
        "id": "eMbnKyM8QbYg"
      }
    },
    {
      "cell_type": "code",
      "source": [
        "z_one = True\n",
        "print(z_one)\n",
        "print(type(z_one))"
      ],
      "metadata": {
        "id": "3RcpZxzJQlsv",
        "outputId": "43036803-3707-42cc-eb2f-8c991b22ce32",
        "colab": {
          "base_uri": "https://localhost:8080/"
        }
      },
      "execution_count": null,
      "outputs": [
        {
          "output_type": "stream",
          "name": "stdout",
          "text": [
            "True\n",
            "<class 'bool'>\n"
          ]
        }
      ]
    },
    {
      "cell_type": "code",
      "source": [
        "z_two = False\n",
        "print(z_two)\n",
        "print(type(z_two))"
      ],
      "metadata": {
        "id": "Q_4SUoYHQ4q7",
        "outputId": "1e6cf31a-9159-409d-9765-eef472dea890",
        "colab": {
          "base_uri": "https://localhost:8080/"
        }
      },
      "execution_count": null,
      "outputs": [
        {
          "output_type": "stream",
          "name": "stdout",
          "text": [
            "False\n",
            "<class 'bool'>\n"
          ]
        }
      ]
    },
    {
      "cell_type": "markdown",
      "source": [
        "Las expresiones de tipo relacional se evalúan a valores booleanos."
      ],
      "metadata": {
        "id": "oVF-qZ-KRFot"
      }
    },
    {
      "cell_type": "code",
      "source": [
        "z_three = (1 < 2)\n",
        "print(z_three)\n",
        "print(type(z_three))"
      ],
      "metadata": {
        "id": "JewLwOWhRLhy",
        "outputId": "f7b3bfa3-013e-413d-e639-5b4c706a54a6",
        "colab": {
          "base_uri": "https://localhost:8080/"
        }
      },
      "execution_count": null,
      "outputs": [
        {
          "output_type": "stream",
          "name": "stdout",
          "text": [
            "True\n",
            "<class 'bool'>\n"
          ]
        }
      ]
    },
    {
      "cell_type": "code",
      "source": [
        "z_four = (5 < 3)\n",
        "print(z_four)\n",
        "print(type(z_four))"
      ],
      "metadata": {
        "id": "Zz7NODr8RTXw",
        "outputId": "6fc07579-e03e-49fa-dd59-6d949492f1c0",
        "colab": {
          "base_uri": "https://localhost:8080/"
        }
      },
      "execution_count": null,
      "outputs": [
        {
          "output_type": "stream",
          "name": "stdout",
          "text": [
            "False\n",
            "<class 'bool'>\n"
          ]
        }
      ]
    },
    {
      "cell_type": "markdown",
      "source": [
        "Se pueden utilizar operadores lógicos:"
      ],
      "metadata": {
        "id": "VzKS_PBkRzwf"
      }
    },
    {
      "cell_type": "code",
      "source": [
        "z_five = not z_four\n",
        "print(z_five)\n",
        "print(type(z_five))"
      ],
      "metadata": {
        "id": "8ugGD-w8R3kd",
        "outputId": "fc115c79-5e93-4fba-cb41-b709520b04ee",
        "colab": {
          "base_uri": "https://localhost:8080/"
        }
      },
      "execution_count": null,
      "outputs": [
        {
          "output_type": "stream",
          "name": "stdout",
          "text": [
            "True\n",
            "<class 'bool'>\n"
          ]
        }
      ]
    },
    {
      "cell_type": "markdown",
      "source": [
        "# Strings\n",
        "Representa cualquier secuencia de caracteres. Se pueden manejar en 1 o más líneas. Y se pueden representar con comillas simples, dobles y triples."
      ],
      "metadata": {
        "id": "YDA-MYOqSOeY"
      }
    },
    {
      "cell_type": "code",
      "source": [
        "w = \"Hello, Python!\"\n",
        "print(w)\n",
        "print(type(w))"
      ],
      "metadata": {
        "id": "QPnCPet1Sgwj",
        "outputId": "e97e0f07-fc30-4ffe-8e70-2eee3f770038",
        "colab": {
          "base_uri": "https://localhost:8080/"
        }
      },
      "execution_count": null,
      "outputs": [
        {
          "output_type": "stream",
          "name": "stdout",
          "text": [
            "Hello, Python!\n",
            "<class 'str'>\n"
          ]
        }
      ]
    },
    {
      "cell_type": "markdown",
      "source": [
        "Consultando la longitud de un string con la función len()."
      ],
      "metadata": {
        "id": "ctMV_SzHTFNt"
      }
    },
    {
      "cell_type": "code",
      "source": [
        "print(len(w))"
      ],
      "metadata": {
        "id": "nRnsF2yOS-OH",
        "outputId": "6c9b4b2f-cb94-44d5-c144-076f7d835065",
        "colab": {
          "base_uri": "https://localhost:8080/"
        }
      },
      "execution_count": null,
      "outputs": [
        {
          "output_type": "stream",
          "name": "stdout",
          "text": [
            "14\n"
          ]
        }
      ]
    },
    {
      "cell_type": "markdown",
      "source": [
        "Un string especial es el que tiene longitud 0."
      ],
      "metadata": {
        "id": "p66EcpRQTeZJ"
      }
    },
    {
      "cell_type": "code",
      "source": [
        "shortest_string = \"\"\n",
        "print(type(shortest_string))\n",
        "print(len(shortest_string))"
      ],
      "metadata": {
        "id": "PT4AMS-dTnCs",
        "outputId": "714eb9cf-16c7-4e39-9fba-9a3e5d3b22ec",
        "colab": {
          "base_uri": "https://localhost:8080/"
        }
      },
      "execution_count": null,
      "outputs": [
        {
          "output_type": "stream",
          "name": "stdout",
          "text": [
            "<class 'str'>\n",
            "0\n"
          ]
        }
      ]
    },
    {
      "cell_type": "markdown",
      "source": [
        "Se pueden manejar strings de números, pero hay que convertirlos para darles el tratamiento como tales:"
      ],
      "metadata": {
        "id": "cQt3k96YT4Lb"
      }
    },
    {
      "cell_type": "code",
      "source": [
        "my_number = \"1.12321\"\n",
        "print(my_number)\n",
        "print(type(my_number))"
      ],
      "metadata": {
        "id": "FWodba0wUR30",
        "outputId": "287477c7-e914-4981-f512-f792bbb30626",
        "colab": {
          "base_uri": "https://localhost:8080/"
        }
      },
      "execution_count": null,
      "outputs": [
        {
          "output_type": "stream",
          "name": "stdout",
          "text": [
            "1.12321\n",
            "<class 'str'>\n"
          ]
        }
      ]
    },
    {
      "cell_type": "code",
      "source": [
        "also_my_number = float(my_number)\n",
        "print(also_my_number)\n",
        "print(type(also_my_number))"
      ],
      "metadata": {
        "id": "G5ND7Vg_Ukc9",
        "outputId": "ff571998-d027-4ef1-fbf7-374f17b7972e",
        "colab": {
          "base_uri": "https://localhost:8080/"
        }
      },
      "execution_count": null,
      "outputs": [
        {
          "output_type": "stream",
          "name": "stdout",
          "text": [
            "1.12321\n",
            "<class 'float'>\n"
          ]
        }
      ]
    },
    {
      "cell_type": "markdown",
      "source": [
        "Es posible utilizar los operadores \"+\" y \"*\" sobrecargado para los strings en Python:"
      ],
      "metadata": {
        "id": "Q5M_bctFVNme"
      }
    },
    {
      "cell_type": "code",
      "source": [
        "new_string = \"abc\" + \"def\"\n",
        "print(new_string)\n",
        "print(type(new_string))"
      ],
      "metadata": {
        "id": "LQnGgIG3csyS",
        "outputId": "5512d651-429b-40d7-8e30-1fbcf810c388",
        "colab": {
          "base_uri": "https://localhost:8080/"
        }
      },
      "execution_count": null,
      "outputs": [
        {
          "output_type": "stream",
          "name": "stdout",
          "text": [
            "abcdef\n",
            "<class 'str'>\n"
          ]
        }
      ]
    },
    {
      "cell_type": "code",
      "source": [
        "newest_string = \"abc\" * 3\n",
        "print(newest_string)\n",
        "print(type(newest_string))"
      ],
      "metadata": {
        "id": "LGULZS_RcyDV",
        "outputId": "459d1d27-5f7e-4492-8692-ad5a13903f9d",
        "colab": {
          "base_uri": "https://localhost:8080/"
        }
      },
      "execution_count": null,
      "outputs": [
        {
          "output_type": "stream",
          "name": "stdout",
          "text": [
            "abcabcabc\n",
            "<class 'str'>\n"
          ]
        }
      ]
    },
    {
      "cell_type": "markdown",
      "source": [
        "No se pueden hacer multiplicaciones de string con flotantes."
      ],
      "metadata": {
        "id": "uoPdK6j1c9pQ"
      }
    },
    {
      "cell_type": "code",
      "source": [
        "will_not_work = \"abc\" * 3."
      ],
      "metadata": {
        "id": "3WbRiIKHdCbr",
        "outputId": "f562675b-ac60-46d8-b982-b2727d3a6b04",
        "colab": {
          "base_uri": "https://localhost:8080/",
          "height": 165
        }
      },
      "execution_count": null,
      "outputs": [
        {
          "output_type": "error",
          "ename": "TypeError",
          "evalue": "ignored",
          "traceback": [
            "\u001b[0;31m---------------------------------------------------------------------------\u001b[0m",
            "\u001b[0;31mTypeError\u001b[0m                                 Traceback (most recent call last)",
            "\u001b[0;32m<ipython-input-21-a9abcd83c0c9>\u001b[0m in \u001b[0;36m<module>\u001b[0;34m\u001b[0m\n\u001b[0;32m----> 1\u001b[0;31m \u001b[0mwill_not_work\u001b[0m \u001b[0;34m=\u001b[0m \u001b[0;34m\"abc\"\u001b[0m \u001b[0;34m*\u001b[0m \u001b[0;36m3.\u001b[0m\u001b[0;34m\u001b[0m\u001b[0;34m\u001b[0m\u001b[0m\n\u001b[0m",
            "\u001b[0;31mTypeError\u001b[0m: can't multiply sequence by non-int of type 'float'"
          ]
        }
      ]
    }
  ],
  "metadata": {
    "colab": {
      "provenance": [],
      "history_visible": true,
      "include_colab_link": true
    },
    "kernelspec": {
      "display_name": "Python 3.10.7 64-bit",
      "language": "python",
      "name": "python3"
    },
    "language_info": {
      "codemirror_mode": {
        "name": "ipython",
        "version": 3
      },
      "file_extension": ".py",
      "mimetype": "text/x-python",
      "name": "python",
      "nbconvert_exporter": "python",
      "pygments_lexer": "ipython3",
      "version": "3.10.7"
    },
    "orig_nbformat": 4,
    "vscode": {
      "interpreter": {
        "hash": "eb4a0ac80907d7f44e1a5e88d3d3381b33e3dbedd3a24d113e876f30a0c46bee"
      }
    }
  },
  "nbformat": 4,
  "nbformat_minor": 0
}