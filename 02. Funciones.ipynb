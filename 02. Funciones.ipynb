{
  "cells": [
    {
      "cell_type": "markdown",
      "metadata": {
        "id": "view-in-github",
        "colab_type": "text"
      },
      "source": [
        "<a href=\"https://colab.research.google.com/github/GTD2101-ACD-AA-EJ23/01-Python-basico-20170778/blob/main/02.%20Funciones.ipynb\" target=\"_parent\"><img src=\"https://colab.research.google.com/assets/colab-badge.svg\" alt=\"Open In Colab\"/></a>"
      ]
    },
    {
      "cell_type": "markdown",
      "metadata": {
        "id": "Prei7tPpPIzZ"
      },
      "source": [
        "# Funciones\n",
        "\n",
        "En este JNB se revisará el tema de Funciones"
      ]
    },
    {
      "cell_type": "code",
      "execution_count": 4,
      "metadata": {
        "id": "O8NoTzxjs2wK"
      },
      "outputs": [],
      "source": [
        "# Define the function\n",
        "def add_three(input_var):\n",
        "    output_var = input_var + 3\n",
        "    return output_var"
      ]
    },
    {
      "cell_type": "markdown",
      "source": [
        "# Mandando llamar a la función\n",
        "Una vez que se define la función en alguna celda anterior, se puede invocar en celdas posteriores."
      ],
      "metadata": {
        "id": "nV8ocnxePzZG"
      }
    },
    {
      "cell_type": "code",
      "source": [
        "# Run the function with 10 as input\n",
        "new_number = add_three(10)\n",
        "\n",
        "# Check that the value is 13, as expected\n",
        "print(new_number)"
      ],
      "metadata": {
        "colab": {
          "base_uri": "https://localhost:8080/"
        },
        "id": "2NQyFmfmP_me",
        "outputId": "4d4bcb54-e696-4b21-c094-0f72e7555a9f"
      },
      "execution_count": 5,
      "outputs": [
        {
          "output_type": "stream",
          "name": "stdout",
          "text": [
            "13\n"
          ]
        }
      ]
    },
    {
      "cell_type": "markdown",
      "source": [
        "# Un ejemplo más complejo\n",
        "\n",
        "Es posible definir una función con un número mayor de parámetros y utilizarla."
      ],
      "metadata": {
        "id": "vAo0E0PUQQ0C"
      }
    },
    {
      "cell_type": "code",
      "source": [
        "def get_pay(num_hours):\n",
        "  # Pre-tax pay, based on receiving $15/hour\n",
        "  pay_pretax = num_hours * 15\n",
        "  # After-tax pay, based on being in 12% tax bracket\n",
        "  pay_aftertax = pay_pretax * (1 - .12)\n",
        "  return pay_aftertax"
      ],
      "metadata": {
        "id": "FyGZIpzrQcQo"
      },
      "execution_count": 8,
      "outputs": []
    },
    {
      "cell_type": "markdown",
      "source": [
        "Probando la función de cálculo de pagos"
      ],
      "metadata": {
        "id": "XVjVze6DSDnt"
      }
    },
    {
      "cell_type": "code",
      "source": [
        "# Calculate pay based on working 40 hours\n",
        "pay_fulltime = get_pay(40)\n",
        "print(pay_fulltime)"
      ],
      "metadata": {
        "colab": {
          "base_uri": "https://localhost:8080/"
        },
        "id": "0ylAMudoQ4No",
        "outputId": "a7b02321-c52e-4cf0-c918-495546f1a86b"
      },
      "execution_count": 9,
      "outputs": [
        {
          "output_type": "stream",
          "name": "stdout",
          "text": [
            "528.0\n"
          ]
        }
      ]
    },
    {
      "cell_type": "code",
      "source": [
        "pay_parttime = get_pay(32)\n",
        "print(pay_parttime)"
      ],
      "metadata": {
        "colab": {
          "base_uri": "https://localhost:8080/"
        },
        "id": "qnRQznPORW52",
        "outputId": "db8af70d-68ad-4044-b9a2-09f99a4e922d"
      },
      "execution_count": 10,
      "outputs": [
        {
          "output_type": "stream",
          "name": "stdout",
          "text": [
            "422.4\n"
          ]
        }
      ]
    },
    {
      "cell_type": "markdown",
      "source": [
        "# Alcance\n",
        "Existen diferentes alcances para las variables locales y globales"
      ],
      "metadata": {
        "id": "O99i_34tRy7k"
      }
    },
    {
      "cell_type": "code",
      "source": [
        "print(pay_aftertax)"
      ],
      "metadata": {
        "colab": {
          "base_uri": "https://localhost:8080/",
          "height": 165
        },
        "id": "D-68seBlR7J7",
        "outputId": "c4efe551-7a5b-43bc-91aa-4dbf7fccfe88"
      },
      "execution_count": 11,
      "outputs": [
        {
          "output_type": "error",
          "ename": "NameError",
          "evalue": "ignored",
          "traceback": [
            "\u001b[0;31m---------------------------------------------------------------------------\u001b[0m",
            "\u001b[0;31mNameError\u001b[0m                                 Traceback (most recent call last)",
            "\u001b[0;32m<ipython-input-11-0dc6de9a0e5a>\u001b[0m in \u001b[0;36m<module>\u001b[0;34m\u001b[0m\n\u001b[0;32m----> 1\u001b[0;31m \u001b[0mprint\u001b[0m\u001b[0;34m(\u001b[0m\u001b[0mpay_aftertax\u001b[0m\u001b[0;34m)\u001b[0m\u001b[0;34m\u001b[0m\u001b[0;34m\u001b[0m\u001b[0m\n\u001b[0m",
            "\u001b[0;31mNameError\u001b[0m: name 'pay_aftertax' is not defined"
          ]
        }
      ]
    },
    {
      "cell_type": "markdown",
      "source": [
        "# Funciones con múltiples parámetros\n",
        "Es posible que una función reciba más de 1 argumento en su llamada"
      ],
      "metadata": {
        "id": "lYxL93BWSZb7"
      }
    },
    {
      "cell_type": "code",
      "source": [
        "def get_pay_with_more_inputs(num_hours, hourly_wage, tax_bracket):\n",
        "  # Pre-tax pay\n",
        "  pay_pretax = num_hours * hourly_wage\n",
        "  # After-tax pay\n",
        "  pay_aftertax = pay_pretax * (1 - tax_bracket)\n",
        "  return pay_aftertax"
      ],
      "metadata": {
        "id": "rX7Urg2ISpcd"
      },
      "execution_count": 12,
      "outputs": []
    },
    {
      "cell_type": "code",
      "source": [
        "higher_pay_aftertax = get_pay_with_more_inputs(40, 24, .22)\n",
        "print(higher_pay_aftertax)"
      ],
      "metadata": {
        "colab": {
          "base_uri": "https://localhost:8080/"
        },
        "id": "j0Pph9YgS2o5",
        "outputId": "fbf36fd1-a072-4cd2-f675-fa65986464e0"
      },
      "execution_count": 13,
      "outputs": [
        {
          "output_type": "stream",
          "name": "stdout",
          "text": [
            "748.8000000000001\n"
          ]
        }
      ]
    },
    {
      "cell_type": "code",
      "source": [
        "same_pay_fulltime = get_pay_with_more_inputs(40, 15, .12)\n",
        "print(same_pay_fulltime)"
      ],
      "metadata": {
        "colab": {
          "base_uri": "https://localhost:8080/"
        },
        "id": "ma7DeVbwTE1A",
        "outputId": "8bf76422-6385-4821-a162-3220603b911a"
      },
      "execution_count": 14,
      "outputs": [
        {
          "output_type": "stream",
          "name": "stdout",
          "text": [
            "528.0\n"
          ]
        }
      ]
    },
    {
      "cell_type": "markdown",
      "source": [
        "# Función sin argumentos\n",
        "Es posible definir una función que no reciba argumentos ni que regrese algún valor"
      ],
      "metadata": {
        "id": "24DMF96DTMtT"
      }
    },
    {
      "cell_type": "code",
      "source": [
        "# Define the function with no arguments and with no return\n",
        "def print_hello():\n",
        "  print(\"Hello, you!\")\n",
        "  print(\"Good morning!\")\n",
        "    \n",
        "# Call the function\n",
        "print_hello()"
      ],
      "metadata": {
        "colab": {
          "base_uri": "https://localhost:8080/"
        },
        "id": "QUvL6IPxTWYI",
        "outputId": "ed9a679c-10bb-4304-c60a-5616993820a8"
      },
      "execution_count": 16,
      "outputs": [
        {
          "output_type": "stream",
          "name": "stdout",
          "text": [
            "Hello, you!\n",
            "Good morning!\n"
          ]
        }
      ]
    }
  ],
  "metadata": {
    "colab": {
      "provenance": [],
      "toc_visible": true,
      "include_colab_link": true
    },
    "kernelspec": {
      "display_name": "Python 3.10.7 64-bit",
      "language": "python",
      "name": "python3"
    },
    "language_info": {
      "codemirror_mode": {
        "name": "ipython",
        "version": 3
      },
      "file_extension": ".py",
      "mimetype": "text/x-python",
      "name": "python",
      "nbconvert_exporter": "python",
      "pygments_lexer": "ipython3",
      "version": "3.10.7"
    },
    "orig_nbformat": 4,
    "vscode": {
      "interpreter": {
        "hash": "eb4a0ac80907d7f44e1a5e88d3d3381b33e3dbedd3a24d113e876f30a0c46bee"
      }
    }
  },
  "nbformat": 4,
  "nbformat_minor": 0
}