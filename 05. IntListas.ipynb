{
  "cells": [
    {
      "cell_type": "markdown",
      "metadata": {
        "id": "view-in-github",
        "colab_type": "text"
      },
      "source": [
        "<a href=\"https://colab.research.google.com/github/GTD2101-ACD-AA-EJ23/01-Python-basico-20170778/blob/main/05.%20IntListas.ipynb\" target=\"_parent\"><img src=\"https://colab.research.google.com/assets/colab-badge.svg\" alt=\"Open In Colab\"/></a>"
      ]
    },
    {
      "cell_type": "markdown",
      "metadata": {
        "id": "DL-mWKSTpMlg"
      },
      "source": [
        "# Introducción a Listas\n",
        "\n",
        "En este JNB se revisará el tema de Introducción a Listas"
      ]
    },
    {
      "cell_type": "code",
      "source": [
        "flowers = \"pink primrose,hard-leaved pocket orchid,canterbury bells,sweet pea,english marigold,tiger lily,moon orchid,bird of paradise,monkshood,globe thistle\"\n",
        "\n",
        "print(type(flowers))\n",
        "print(flowers)"
      ],
      "metadata": {
        "id": "CkDRpxGrptRB",
        "outputId": "d2f27ccf-75e4-410b-bad1-b4f7d3399e0a",
        "colab": {
          "base_uri": "https://localhost:8080/"
        }
      },
      "execution_count": 1,
      "outputs": [
        {
          "output_type": "stream",
          "name": "stdout",
          "text": [
            "<class 'str'>\n",
            "pink primrose,hard-leaved pocket orchid,canterbury bells,sweet pea,english marigold,tiger lily,moon orchid,bird of paradise,monkshood,globe thistle\n"
          ]
        }
      ]
    },
    {
      "cell_type": "code",
      "source": [
        "flowers_list = [\"pink primrose\", \"hard-leaved pocket orchid\", \"canterbury bells\", \"sweet pea\", \"english marigold\", \"tiger lily\", \"moon orchid\", \"bird of paradise\", \"monkshood\", \"globe thistle\"]\n",
        "\n",
        "print(type(flowers_list))\n",
        "print(flowers_list)"
      ],
      "metadata": {
        "id": "Z-82i5D-pm94",
        "outputId": "ce6055c1-89fe-4233-9495-3098443a5151",
        "colab": {
          "base_uri": "https://localhost:8080/"
        }
      },
      "execution_count": 2,
      "outputs": [
        {
          "output_type": "stream",
          "name": "stdout",
          "text": [
            "<class 'list'>\n",
            "['pink primrose', 'hard-leaved pocket orchid', 'canterbury bells', 'sweet pea', 'english marigold', 'tiger lily', 'moon orchid', 'bird of paradise', 'monkshood', 'globe thistle']\n"
          ]
        }
      ]
    },
    {
      "cell_type": "code",
      "source": [
        "flowers_list[3]"
      ],
      "metadata": {
        "id": "Ne2hzQvJthoc",
        "outputId": "70c52b41-a3ee-4e4a-d8c3-21bad2ebcec0",
        "colab": {
          "base_uri": "https://localhost:8080/",
          "height": 36
        }
      },
      "execution_count": 3,
      "outputs": [
        {
          "output_type": "execute_result",
          "data": {
            "text/plain": [
              "'sweet pea'"
            ],
            "application/vnd.google.colaboratory.intrinsic+json": {
              "type": "string"
            }
          },
          "metadata": {},
          "execution_count": 3
        }
      ]
    },
    {
      "cell_type": "markdown",
      "source": [
        "# Longitud de una lista\n",
        "Se utiliza la función len"
      ],
      "metadata": {
        "id": "2IP7a_C8uQkP"
      }
    },
    {
      "cell_type": "code",
      "source": [
        "len(flowers_list)"
      ],
      "metadata": {
        "id": "1SZNNy6HtprP",
        "outputId": "f54207cd-a8fb-44dc-878a-bd4dd669248e",
        "colab": {
          "base_uri": "https://localhost:8080/"
        }
      },
      "execution_count": 4,
      "outputs": [
        {
          "output_type": "execute_result",
          "data": {
            "text/plain": [
              "10"
            ]
          },
          "metadata": {},
          "execution_count": 4
        }
      ]
    },
    {
      "cell_type": "markdown",
      "source": [
        "# Indexamiento\n",
        "Algunos ejemplos de Indexamiento"
      ],
      "metadata": {
        "id": "WcfP8mSouWbH"
      }
    },
    {
      "cell_type": "code",
      "source": [
        "print(\"First entry:\", flowers_list[0])\n",
        "print(\"Second entry:\", flowers_list[1])\n",
        "\n",
        "print(\"\")\n",
        "# The list has length ten, so we refer to final entry with 9\n",
        "print(\"Last entry:\", flowers_list[9])\n",
        "\n",
        "print(\"Last entry:\", flowers_list[len(flowers_list)-1])\n",
        "print(\"Last entry:\", flowers_list[-1])"
      ],
      "metadata": {
        "id": "ck-Udpb2ubDZ",
        "outputId": "d3812331-6b32-4c13-e285-a03c84fb4ea2",
        "colab": {
          "base_uri": "https://localhost:8080/"
        }
      },
      "execution_count": 10,
      "outputs": [
        {
          "output_type": "stream",
          "name": "stdout",
          "text": [
            "First entry: pink primrose\n",
            "Second entry: hard-leaved pocket orchid\n",
            "\n",
            "Last entry: globe thistle\n",
            "Last entry: globe thistle\n",
            "Last entry: globe thistle\n"
          ]
        }
      ]
    },
    {
      "cell_type": "markdown",
      "source": [
        "# Slicing\n",
        "Se pueden obtener sublistas en Python con rangos"
      ],
      "metadata": {
        "id": "DZoo1NfbvyNR"
      }
    },
    {
      "cell_type": "code",
      "source": [
        "print(\"First three entries:\", flowers_list[:3])\n",
        "print(\"Final two entries:\", flowers_list[-2:])"
      ],
      "metadata": {
        "id": "ou8JUReiv1I6",
        "outputId": "3d3056c8-e1fc-4886-c16b-92236a324dc7",
        "colab": {
          "base_uri": "https://localhost:8080/"
        }
      },
      "execution_count": 22,
      "outputs": [
        {
          "output_type": "stream",
          "name": "stdout",
          "text": [
            "First three entries: ['pink primrose', 'hard-leaved pocket orchid', 'canterbury bells']\n",
            "Final two entries: ['monkshood', 'globe thistle']\n"
          ]
        }
      ]
    },
    {
      "cell_type": "markdown",
      "source": [
        "# Removiendo datos"
      ],
      "metadata": {
        "id": "20j9RxPbw1zi"
      }
    },
    {
      "cell_type": "code",
      "source": [
        "flowers_list.remove(\"globe thistle\")\n",
        "print(flowers_list)"
      ],
      "metadata": {
        "id": "JhLbjgFRw5mL",
        "outputId": "413063b4-5037-403c-ae93-4bab2d2e7975",
        "colab": {
          "base_uri": "https://localhost:8080/"
        }
      },
      "execution_count": 23,
      "outputs": [
        {
          "output_type": "stream",
          "name": "stdout",
          "text": [
            "['pink primrose', 'hard-leaved pocket orchid', 'canterbury bells', 'sweet pea', 'english marigold', 'tiger lily', 'moon orchid', 'bird of paradise', 'monkshood']\n"
          ]
        }
      ]
    },
    {
      "cell_type": "markdown",
      "source": [
        "# Añadiendo datos"
      ],
      "metadata": {
        "id": "4x672-RQxGJE"
      }
    },
    {
      "cell_type": "code",
      "source": [
        "flowers_list.append(\"snapdragon\")\n",
        "print(flowers_list)"
      ],
      "metadata": {
        "id": "JfvMmZYxxIYT",
        "outputId": "754b16df-b0ce-47db-ca99-dea55753f654",
        "colab": {
          "base_uri": "https://localhost:8080/"
        }
      },
      "execution_count": 24,
      "outputs": [
        {
          "output_type": "stream",
          "name": "stdout",
          "text": [
            "['pink primrose', 'hard-leaved pocket orchid', 'canterbury bells', 'sweet pea', 'english marigold', 'tiger lily', 'moon orchid', 'bird of paradise', 'monkshood', 'snapdragon']\n"
          ]
        }
      ]
    }
  ],
  "metadata": {
    "colab": {
      "provenance": [],
      "toc_visible": true,
      "include_colab_link": true
    },
    "kernelspec": {
      "display_name": "Python 3.10.7 64-bit",
      "language": "python",
      "name": "python3"
    },
    "language_info": {
      "codemirror_mode": {
        "name": "ipython",
        "version": 3
      },
      "file_extension": ".py",
      "mimetype": "text/x-python",
      "name": "python",
      "nbconvert_exporter": "python",
      "pygments_lexer": "ipython3",
      "version": "3.10.7"
    },
    "orig_nbformat": 4,
    "vscode": {
      "interpreter": {
        "hash": "eb4a0ac80907d7f44e1a5e88d3d3381b33e3dbedd3a24d113e876f30a0c46bee"
      }
    }
  },
  "nbformat": 4,
  "nbformat_minor": 0
}