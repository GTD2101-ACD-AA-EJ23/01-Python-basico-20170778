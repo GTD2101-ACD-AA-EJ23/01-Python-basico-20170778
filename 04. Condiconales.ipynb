{
  "cells": [
    {
      "cell_type": "markdown",
      "metadata": {
        "id": "view-in-github",
        "colab_type": "text"
      },
      "source": [
        "<a href=\"https://colab.research.google.com/github/GTD2101-ACD-AA-EJ23/01-Python-basico-20170778/blob/main/04.%20Condiconales.ipynb\" target=\"_parent\"><img src=\"https://colab.research.google.com/assets/colab-badge.svg\" alt=\"Open In Colab\"/></a>"
      ]
    },
    {
      "cell_type": "markdown",
      "metadata": {
        "id": "5sWNwzBfelFz"
      },
      "source": [
        "# Condiciones y Estatutos Condicionales\n",
        "\n",
        "En este JNB se revisará el tema de Condiciones y Estatutos Condicionales"
      ]
    },
    {
      "cell_type": "markdown",
      "source": [
        "# Condiciones\n",
        "Permiten determinar el flujo de control de una aplicación dependiendo del valor de verdad de las mismas."
      ],
      "metadata": {
        "id": "XKw4HRFqfa1S"
      }
    },
    {
      "cell_type": "code",
      "source": [
        "var_one = 1\n",
        "var_two = 2\n",
        "\n",
        "print(var_one < 1)\n",
        "print(var_two >= var_one)"
      ],
      "metadata": {
        "id": "0uTSZQZofsz_",
        "outputId": "ab531e6c-f106-41eb-ada9-5d82d4b1c883",
        "colab": {
          "base_uri": "https://localhost:8080/"
        }
      },
      "execution_count": 1,
      "outputs": [
        {
          "output_type": "stream",
          "name": "stdout",
          "text": [
            "False\n",
            "True\n"
          ]
        }
      ]
    },
    {
      "cell_type": "markdown",
      "source": [
        "# Estatutos Condicionales\n",
        "Estos estatutos son los que permiten cambiar el flujo de control en base a una cierta condición. Son los \"if\"."
      ],
      "metadata": {
        "id": "yiMeGRzdgS4E"
      }
    },
    {
      "cell_type": "code",
      "source": [
        "def evaluate_temp(temp):\n",
        "    # Set an initial message\n",
        "    message = \"Normal temperature.\"\n",
        "    # Update value of message only if temperature greater than 38\n",
        "    if temp > 38:\n",
        "        message = \"Fever!\"\n",
        "    return message"
      ],
      "metadata": {
        "id": "xrpwzfN8iaaB"
      },
      "execution_count": 2,
      "outputs": []
    },
    {
      "cell_type": "code",
      "source": [
        "print(evaluate_temp(37))"
      ],
      "metadata": {
        "id": "2ftOAui7i5xz",
        "outputId": "d6379bc1-5aae-49ca-c798-e448a09b8cdb",
        "colab": {
          "base_uri": "https://localhost:8080/"
        }
      },
      "execution_count": 3,
      "outputs": [
        {
          "output_type": "stream",
          "name": "stdout",
          "text": [
            "Normal temperature.\n"
          ]
        }
      ]
    },
    {
      "cell_type": "code",
      "source": [
        "print(evaluate_temp(39))"
      ],
      "metadata": {
        "id": "3Ts86KrhjA7p",
        "outputId": "cfd94c13-d80c-49ea-c031-34968d464f30",
        "colab": {
          "base_uri": "https://localhost:8080/"
        }
      },
      "execution_count": 4,
      "outputs": [
        {
          "output_type": "stream",
          "name": "stdout",
          "text": [
            "Fever!\n"
          ]
        }
      ]
    },
    {
      "cell_type": "markdown",
      "source": [
        "# if ... else\n",
        "Permite cambiar el flujo de control cuando no se cumple la primera condición."
      ],
      "metadata": {
        "id": "LZ03rcIAkBfb"
      }
    },
    {
      "cell_type": "code",
      "source": [
        "def evaluate_temp_with_else(temp):\n",
        "    if temp > 38:\n",
        "        message = \"Fever!\"\n",
        "    else:\n",
        "        message = \"Normal temperature.\"\n",
        "    return message"
      ],
      "metadata": {
        "id": "ArDiRIL0kNc4"
      },
      "execution_count": 6,
      "outputs": []
    },
    {
      "cell_type": "code",
      "source": [
        "print(evaluate_temp_with_else(37))"
      ],
      "metadata": {
        "id": "pf2fJZjtkWwk",
        "outputId": "2909ab08-95f8-49d6-fbe3-7377893cc27a",
        "colab": {
          "base_uri": "https://localhost:8080/"
        }
      },
      "execution_count": 7,
      "outputs": [
        {
          "output_type": "stream",
          "name": "stdout",
          "text": [
            "Normal temperature.\n"
          ]
        }
      ]
    },
    {
      "cell_type": "markdown",
      "source": [
        "# if ... elif ... else\n",
        "Permite definir múltiples condiciones para un if."
      ],
      "metadata": {
        "id": "S4UKzBxGk33f"
      }
    },
    {
      "cell_type": "code",
      "source": [
        "def evaluate_temp_with_elif(temp):\n",
        "    if temp > 38:\n",
        "        message = \"Fever!\"\n",
        "    elif temp > 35:\n",
        "        message = \"Normal temperature.\"\n",
        "    else:\n",
        "        message = \"Low temperature.\"\n",
        "    return message"
      ],
      "metadata": {
        "id": "1wavE5Gvk_h0"
      },
      "execution_count": 8,
      "outputs": []
    },
    {
      "cell_type": "code",
      "source": [
        "evaluate_temp_with_elif(36)"
      ],
      "metadata": {
        "id": "O5AWzAc5liMh",
        "outputId": "77577b54-ab3a-43f8-b20b-6fb60396e6e7",
        "colab": {
          "base_uri": "https://localhost:8080/",
          "height": 36
        }
      },
      "execution_count": 9,
      "outputs": [
        {
          "output_type": "execute_result",
          "data": {
            "text/plain": [
              "'Normal temperature.'"
            ],
            "application/vnd.google.colaboratory.intrinsic+json": {
              "type": "string"
            }
          },
          "metadata": {},
          "execution_count": 9
        }
      ]
    },
    {
      "cell_type": "code",
      "source": [
        "evaluate_temp_with_elif(34)"
      ],
      "metadata": {
        "id": "M8gQVAKMmpdQ",
        "outputId": "34633a12-596f-44a3-a093-c57e41e21c08",
        "colab": {
          "base_uri": "https://localhost:8080/",
          "height": 36
        }
      },
      "execution_count": 10,
      "outputs": [
        {
          "output_type": "execute_result",
          "data": {
            "text/plain": [
              "'Low temperature.'"
            ],
            "application/vnd.google.colaboratory.intrinsic+json": {
              "type": "string"
            }
          },
          "metadata": {},
          "execution_count": 10
        }
      ]
    },
    {
      "cell_type": "markdown",
      "source": [
        "Mútliples elif"
      ],
      "metadata": {
        "id": "yCWBbWx6m9xW"
      }
    },
    {
      "cell_type": "code",
      "source": [
        "def get_dose(weight):\n",
        "    # Dosage is 1.25 ml for anyone under 5.2 kg\n",
        "    if weight < 5.2:\n",
        "        dose = 1.25\n",
        "    elif weight < 7.9:\n",
        "        dose = 2.5\n",
        "    elif weight < 10.4:\n",
        "        dose = 3.75\n",
        "    elif weight < 15.9:\n",
        "        dose = 5\n",
        "    elif weight < 21.2:\n",
        "        dose = 7.5\n",
        "    # Dosage is 10 ml for anyone 21.2 kg or over\n",
        "    else:\n",
        "        dose = 10\n",
        "    return dose"
      ],
      "metadata": {
        "id": "XmJVSBLkm7Q9"
      },
      "execution_count": 11,
      "outputs": []
    },
    {
      "cell_type": "code",
      "source": [
        "print(get_dose(12))"
      ],
      "metadata": {
        "id": "72XRnBhKnN1H",
        "outputId": "010189e6-5f68-475a-da1b-ea3025b8d753",
        "colab": {
          "base_uri": "https://localhost:8080/"
        }
      },
      "execution_count": 12,
      "outputs": [
        {
          "output_type": "stream",
          "name": "stdout",
          "text": [
            "5\n"
          ]
        }
      ]
    }
  ],
  "metadata": {
    "colab": {
      "provenance": [],
      "include_colab_link": true
    },
    "kernelspec": {
      "display_name": "Python 3.10.7 64-bit",
      "language": "python",
      "name": "python3"
    },
    "language_info": {
      "codemirror_mode": {
        "name": "ipython",
        "version": 3
      },
      "file_extension": ".py",
      "mimetype": "text/x-python",
      "name": "python",
      "nbconvert_exporter": "python",
      "pygments_lexer": "ipython3",
      "version": "3.10.7"
    },
    "orig_nbformat": 4,
    "vscode": {
      "interpreter": {
        "hash": "eb4a0ac80907d7f44e1a5e88d3d3381b33e3dbedd3a24d113e876f30a0c46bee"
      }
    }
  },
  "nbformat": 4,
  "nbformat_minor": 0
}